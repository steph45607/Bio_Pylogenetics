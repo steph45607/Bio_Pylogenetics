{
 "cells": [
  {
   "cell_type": "code",
   "execution_count": 1,
   "metadata": {},
   "outputs": [],
   "source": [
    "from Bio import Phylo, AlignIO\n",
    "from Bio.Phylo.TreeConstruction import DistanceCalculator, DistanceTreeConstructor"
   ]
  },
  {
   "cell_type": "code",
   "execution_count": 2,
   "metadata": {},
   "outputs": [
    {
     "name": "stdout",
     "output_type": "stream",
     "text": [
      "Alignment with 6 rows and 3331 columns\n",
      "CATGCTACTCCACACACCAAGCTATCTAGCCTCCCCAATCCAAA...ATA homo_sapie\n",
      "CATACTACTCCACACACCAAACTACCTAGCCTCCCCAATCCAAA...ATA chimpanzee\n",
      "CATGCTACTCCACACACCAAGCTACCTAGTCTCCCCAATCCAAA...ACA bonobo\n",
      "CATACTACTCCACACACCAAATCATCTAGCCTCCCCAGTCCAGA...ACA gorilla\n",
      "CATACCACTCCACACCCTATACCATCCAACTTCCCCTATCCGAA...ACA orangutan\n",
      "CATATCACTCCAAACCCCAAACCATCCAGCCTCCCCAATTCAAA...ACA sumatran\n"
     ]
    }
   ],
   "source": [
    "align = AlignIO.read('msa.phy', 'phylip')\n",
    "print(align)"
   ]
  },
  {
   "cell_type": "code",
   "execution_count": 3,
   "metadata": {},
   "outputs": [
    {
     "name": "stdout",
     "output_type": "stream",
     "text": [
      "homo_sapie  0.000000\n",
      "chimpanzee  0.226959    0.000000\n",
      "bonobo  0.220955    0.096968    0.000000\n",
      "gorilla 0.266887    0.257881    0.249775    0.000000\n",
      "orangutan   0.317322    0.321825    0.316121    0.322426    0.000000\n",
      "sumatran    0.314020    0.328130    0.324227    0.328430    0.153107    0.000000\n",
      "    homo_sapie  chimpanzee  bonobo  gorilla orangutan   sumatran\n"
     ]
    }
   ],
   "source": [
    "calculator = DistanceCalculator('identity')\n",
    "distMatrix = calculator.get_distance(align)\n",
    "print(distMatrix)"
   ]
  },
  {
   "cell_type": "code",
   "execution_count": 6,
   "metadata": {},
   "outputs": [
    {
     "data": {
      "image/png": "[encoded data removed]",
      "text/plain": [
       "<Figure size 432x288 with 1 Axes>"
      ]
     },
     "metadata": {
      "needs_background": "light"
     },
     "output_type": "display_data"
    },
    {
     "data": {
      "image/png": "[encoded data removed]",
      "text/plain": [
       "<Figure size 432x288 with 1 Axes>"
      ]
     },
     "metadata": {
      "needs_background": "light"
     },
     "output_type": "display_data"
    }
   ],
   "source": [
    "construct = DistanceTreeConstructor()\n",
    "\n",
    "tree = construct.nj(distMatrix)\n",
    "\n",
    "tree2 = construct.upgma(distMatrix)\n",
    "Phylo.draw(tree)\n",
    "Phylo.draw(tree2)"
   ]
  },
  {
   "cell_type": "code",
   "execution_count": 6,
   "metadata": {},
   "outputs": [
    {
     "name": "stdout",
     "output_type": "stream",
     "text": [
      "[[0. 5.]\n",
      " [5. 0.]]\n"
     ]
    }
   ],
   "source": [
    "import numpy as np\n",
    "def hamming_distance(seq1, seq2):\n",
    "    n = len(seq1)\n",
    "    distance = 0\n",
    "\n",
    "    for i in range(n):\n",
    "        if seq1[i] != seq2[i]:\n",
    "            distance += 1\n",
    "\n",
    "    return distance\n",
    "\n",
    "def construct_distance_matrix(sequences):\n",
    "    n = len(sequences)\n",
    "    distance_matrix = np.zeros((n, n))\n",
    "\n",
    "    for i in range(n):\n",
    "        for j in range(i + 1, n):\n",
    "            seq1 = sequences[i]\n",
    "            seq2 = sequences[j]\n",
    "\n",
    "            # Calculate the Hamming distance between the two sequences\n",
    "            distance_matrix[i, j] = hamming_distance(seq1, seq2)\n",
    "            distance_matrix[j, i] = distance_matrix[i, j]\n",
    "\n",
    "    return distance_matrix\n",
    "\n",
    "seq = [\"-AT---TACA\", \"AATACATTCA\"]\n",
    "\n",
    "matrix = construct_distance_matrix(seq)\n",
    "\n",
    "print(matrix)"
   ]
  },
  {
   "cell_type": "code",
   "execution_count": 8,
   "metadata": {},
   "outputs": [
    {
     "ename": "TypeError",
     "evalue": "Must provide a DistanceMatrix object.",
     "output_type": "error",
     "traceback": [
      "\u001b[0;31m---------------------------------------------------------------------------\u001b[0m",
      "\u001b[0;31mTypeError\u001b[0m                                 Traceback (most recent call last)",
      "\u001b[0;32m<ipython-input-8-b437ec5e18fa>\u001b[0m in \u001b[0;36m<module>\u001b[0;34m\u001b[0m\n\u001b[1;32m      1\u001b[0m \u001b[0mconstruct\u001b[0m \u001b[0;34m=\u001b[0m \u001b[0mDistanceTreeConstructor\u001b[0m\u001b[0;34m(\u001b[0m\u001b[0;34m)\u001b[0m\u001b[0;34m\u001b[0m\u001b[0;34m\u001b[0m\u001b[0m\n\u001b[0;32m----> 2\u001b[0;31m \u001b[0mtree\u001b[0m \u001b[0;34m=\u001b[0m \u001b[0mconstruct\u001b[0m\u001b[0;34m.\u001b[0m\u001b[0mnj\u001b[0m\u001b[0;34m(\u001b[0m\u001b[0mmatrix\u001b[0m\u001b[0;34m)\u001b[0m\u001b[0;34m\u001b[0m\u001b[0;34m\u001b[0m\u001b[0m\n\u001b[0m\u001b[1;32m      3\u001b[0m \u001b[0;34m\u001b[0m\u001b[0m\n\u001b[1;32m      4\u001b[0m \u001b[0mPhylo\u001b[0m\u001b[0;34m.\u001b[0m\u001b[0mdraw_ascii\u001b[0m\u001b[0;34m(\u001b[0m\u001b[0mtree\u001b[0m\u001b[0;34m)\u001b[0m\u001b[0;34m\u001b[0m\u001b[0;34m\u001b[0m\u001b[0m\n",
      "\u001b[0;32m~/opt/anaconda3/lib/python3.8/site-packages/Bio/Phylo/TreeConstruction.py\u001b[0m in \u001b[0;36mnj\u001b[0;34m(self, distance_matrix)\u001b[0m\n\u001b[1;32m    781\u001b[0m         \"\"\"\n\u001b[1;32m    782\u001b[0m         \u001b[0;32mif\u001b[0m \u001b[0;32mnot\u001b[0m \u001b[0misinstance\u001b[0m\u001b[0;34m(\u001b[0m\u001b[0mdistance_matrix\u001b[0m\u001b[0;34m,\u001b[0m \u001b[0mDistanceMatrix\u001b[0m\u001b[0;34m)\u001b[0m\u001b[0;34m:\u001b[0m\u001b[0;34m\u001b[0m\u001b[0;34m\u001b[0m\u001b[0m\n\u001b[0;32m--> 783\u001b[0;31m             \u001b[0;32mraise\u001b[0m \u001b[0mTypeError\u001b[0m\u001b[0;34m(\u001b[0m\u001b[0;34m\"Must provide a DistanceMatrix object.\"\u001b[0m\u001b[0;34m)\u001b[0m\u001b[0;34m\u001b[0m\u001b[0;34m\u001b[0m\u001b[0m\n\u001b[0m\u001b[1;32m    784\u001b[0m \u001b[0;34m\u001b[0m\u001b[0m\n\u001b[1;32m    785\u001b[0m         \u001b[0;31m# make a copy of the distance matrix to be used\u001b[0m\u001b[0;34m\u001b[0m\u001b[0;34m\u001b[0m\u001b[0;34m\u001b[0m\u001b[0m\n",
      "\u001b[0;31mTypeError\u001b[0m: Must provide a DistanceMatrix object."
     ]
    }
   ],
   "source": [
    "construct = DistanceTreeConstructor()\n",
    "tree = construct.nj(matrix)\n",
    "\n",
    "Phylo.draw_ascii(tree)"
   ]
  },
  {
   "cell_type": "markdown",
   "metadata": {},
   "source": []
  }
 ],
 "metadata": {
  "kernelspec": {
   "display_name": "Python 3",
   "language": "python",
   "name": "python3"
  },
  "language_info": {
   "codemirror_mode": {
    "name": "ipython",
    "version": 3
   },
   "file_extension": ".py",
   "mimetype": "text/x-python",
   "name": "python",
   "nbconvert_exporter": "python",
   "pygments_lexer": "ipython3",
   "version": "3.8.8"
  }
 },
 "nbformat": 4,
 "nbformat_minor": 2
}
