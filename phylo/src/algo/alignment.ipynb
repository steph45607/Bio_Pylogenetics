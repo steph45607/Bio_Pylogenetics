{
 "cells": [
  {
   "cell_type": "code",
   "execution_count": 5,
   "metadata": {},
   "outputs": [],
   "source": [
    "from Bio import SeqIO\n",
    "from Bio import AlignIO\n",
    "from Bio import Phylo\n",
    "from Bio.Seq import Seq\n",
    "from Bio.SeqRecord import SeqRecord\n",
    "from Bio.Align.Applications import MuscleCommandline\n",
    "from Bio.Phylo.TreeConstruction import DistanceCalculator, DistanceTreeConstructor"
   ]
  },
  {
   "cell_type": "code",
   "execution_count": 10,
   "metadata": {},
   "outputs": [
    {
     "name": "stdout",
     "output_type": "stream",
     "text": [
      "Alignment with 4 rows and 48 columns\n",
      "AAAAAAAAAAAAAAAAAAAAAAAAAAAAAAAAAAAAAAAAAAAAAAAA organism_AAAAA\n",
      "AAAAAAAA---AAAAAAAAAAAACAAAAAAAAAAAAAAAAAAAAAAAA organism_AACAA\n",
      "AAAAAAAAAAAAAAAAAAAAAAACGAAAAAAAAAAAAAAAAAAAAAAA organism_AACGA\n",
      "AAAAAAAAAAAAAAAAAAAAAAATAAAAAAAA----------AAAAAA organism_AATAA\n"
     ]
    }
   ],
   "source": [
    "align = AlignIO.read(\"notalign.fasta\", \"fasta\")\n",
    "print(align)"
   ]
  },
  {
   "cell_type": "code",
   "execution_count": 11,
   "metadata": {},
   "outputs": [
    {
     "name": "stdout",
     "output_type": "stream",
     "text": [
      "organism_AAAAA  0.000000\n",
      "organism_AACAA  0.083333    0.000000\n",
      "organism_AACGA  0.041667    0.083333    0.000000\n",
      "organism_AATAA  0.229167    0.291667    0.250000    0.000000\n",
      "    organism_AAAAA  organism_AACAA  organism_AACGA  organism_AATAA\n"
     ]
    }
   ],
   "source": [
    "calc = DistanceCalculator('identity')\n",
    "# print(calc)\n",
    "dist = calc.get_distance(align)\n",
    "print(dist)"
   ]
  },
  {
   "cell_type": "code",
   "execution_count": 12,
   "metadata": {},
   "outputs": [
    {
     "name": "stdout",
     "output_type": "stream",
     "text": [
      "Tree(rooted=False)\n",
      "    Clade(branch_length=0, name='Inner2')\n",
      "        Clade(branch_length=0.010416666666666657, name='organism_AAAAA')\n",
      "        Clade(branch_length=0.010416666666666657, name='Inner1')\n",
      "            Clade(branch_length=0.020833333333333343, name='organism_AACGA')\n",
      "            Clade(branch_length=0.06250000000000003, name='organism_AACAA')\n",
      "        Clade(branch_length=0.21874999999999997, name='organism_AATAA')\n"
     ]
    }
   ],
   "source": [
    "construct = DistanceTreeConstructor()\n",
    "# print(construct)\n",
    "\n",
    "tree = construct.nj(dist)\n",
    "print(tree)"
   ]
  },
  {
   "cell_type": "code",
   "execution_count": 13,
   "metadata": {},
   "outputs": [
    {
     "data": {
      "image/png": "[encoded data removed]",
      "text/plain": [
       "<Figure size 432x288 with 1 Axes>"
      ]
     },
     "metadata": {
      "needs_background": "light"
     },
     "output_type": "display_data"
    }
   ],
   "source": [
    "Phylo.draw(tree)"
   ]
  },
  {
   "cell_type": "code",
   "execution_count": null,
   "metadata": {},
   "outputs": [],
   "source": []
  }
 ],
 "metadata": {
  "kernelspec": {
   "display_name": "base",
   "language": "python",
   "name": "python3"
  },
  "language_info": {
   "codemirror_mode": {
    "name": "ipython",
    "version": 3
   },
   "file_extension": ".py",
   "mimetype": "text/x-python",
   "name": "python",
   "nbconvert_exporter": "python",
   "pygments_lexer": "ipython3",
   "version": "3.8.8"
  }
 },
 "nbformat": 4,
 "nbformat_minor": 2
}
